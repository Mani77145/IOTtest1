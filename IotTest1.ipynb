{
  "metadata": {
    "language_info": {
      "codemirror_mode": {
        "name": "python",
        "version": 3
      },
      "file_extension": ".py",
      "mimetype": "text/x-python",
      "name": "python",
      "nbconvert_exporter": "python",
      "pygments_lexer": "ipython3",
      "version": "3.8"
    },
    "kernelspec": {
      "name": "python",
      "display_name": "Python (Pyodide)",
      "language": "python"
    }
  },
  "nbformat_minor": 4,
  "nbformat": 4,
  "cells": [
    {
      "cell_type": "code",
      "source": "#Question 1\nlist1 = [10, 21,3, 4, 45, 66, 93]\nfor num in list1:\n    if num % 2 != 0:\n        print(num, end=\" \")",
      "metadata": {
        "trusted": true
      },
      "execution_count": 3,
      "outputs": [
        {
          "name": "stdout",
          "text": "21 3 45 93 ",
          "output_type": "stream"
        }
      ]
    },
    {
      "cell_type": "code",
      "source": "#Question 2\nlist1 = [10, 21,3, 4, 45, 66, 93]\nsum = 0.0\nfor num in list1:\n    sum += num\nprint(sum)",
      "metadata": {
        "trusted": true
      },
      "execution_count": 4,
      "outputs": [
        {
          "name": "stdout",
          "text": "21.0\n",
          "output_type": "stream"
        }
      ]
    },
    {
      "cell_type": "code",
      "source": "#Question 3\nlist1 = [10, 21,3, 4, 45, 66, 93]\nlist1.reverse()\nprint(list1)\n",
      "metadata": {
        "trusted": true
      },
      "execution_count": 10,
      "outputs": [
        {
          "name": "stdout",
          "text": "[93, 66, 45, 4, 3, 21, 10]\n",
          "output_type": "stream"
        }
      ]
    },
    {
      "cell_type": "code",
      "source": "#Question 3.2\ndef reverse_list(list1):\n    left = 0\n    right = len(list1)-1\n    while (left < right):\n        temp = list1[left]\n        list1[left] = list1[right]\n        list1[right] = temp\n        left += 1\n        right -= 1\n \n    return list1\n \nlist1 = [10, 21,3, 4, 45, 66, 93]\nprint(reverse_list(list1))",
      "metadata": {
        "trusted": true
      },
      "execution_count": 13,
      "outputs": [
        {
          "name": "stdout",
          "text": "[93, 66, 45, 4, 3, 21, 10]\n",
          "output_type": "stream"
        }
      ]
    },
    {
      "cell_type": "code",
      "source": "#Question 4\ndef two_largest(inlist):\n    largest = 0\n    second_largest = 0\n    for item in inlist:\n        if item > largest:\n            second_largest = largest\n            largest = item\n        elif largest > item > second_largest:\n            second_largest = item\n    return largest, second_largest\nif __name__ == \"__main__\":\n    inlist = [6,8,5,1, 2, 3]\n    print(two_largest(inlist))",
      "metadata": {
        "trusted": true
      },
      "execution_count": 19,
      "outputs": [
        {
          "name": "stdout",
          "text": "(8, 6)\n",
          "output_type": "stream"
        }
      ]
    },
    {
      "cell_type": "code",
      "source": "#Question 5\ndef two_largest(inlist):\n    largest = 0\n    second_largest = 0\n    for item in inlist:\n        if item > largest:\n            second_largest = largest\n            largest = item\n        elif largest > item > second_largest:\n            second_largest = item\n    return second_largest\nif __name__ == \"__main__\":\n    inlist = [6,8,5,1, 2, 3]\n    print(two_largest(inlist))",
      "metadata": {
        "trusted": true
      },
      "execution_count": 21,
      "outputs": [
        {
          "name": "stdout",
          "text": "6\n",
          "output_type": "stream"
        }
      ]
    },
    {
      "cell_type": "code",
      "source": "#Question 6\ndef r_li(li):\n    left = 0\n    right = len(li)-1\n    while (left < right):\n        t = li[left]\n        li[left] = li[right]\n        li[right] = t\n        left += 1\n        right -= 1\n    return li\nli=[\"b\",\"a\",\"f\",\"c\"]\nli.sort()\nr_li(li)\nprint(li)",
      "metadata": {
        "trusted": true
      },
      "execution_count": 20,
      "outputs": [
        {
          "name": "stdout",
          "text": "['f', 'c', 'b', 'a']\n",
          "output_type": "stream"
        }
      ]
    },
    {
      "cell_type": "code",
      "source": "#Question 7\nstring=\"geeksforgeeks\"\nk2=[]\nfor ele in string:\n    if ele not in k2:\n        k2.append(ele)\nfor i in range(0,len(k2)):\n    print(k2[i],end=\"\")",
      "metadata": {
        "trusted": true
      },
      "execution_count": 31,
      "outputs": [
        {
          "name": "stdout",
          "text": "geksfor",
          "output_type": "stream"
        }
      ]
    },
    {
      "cell_type": "code",
      "source": "#Question 8\nstring=\"A\"\nfor ele in string:\n    if(ele==\"e\" or ele==\"a\" or ele==\"i\" or ele==\"o\" or ele==\"u\" or ele==\"E\" or ele==\"A\" or ele==\"I\" or ele==\"O\" or ele==\"U\"):\n        print(\"Yes\")\n    else:\n        print(\"No\")",
      "metadata": {
        "trusted": true
      },
      "execution_count": 55,
      "outputs": [
        {
          "name": "stdout",
          "text": "Yes\n",
          "output_type": "stream"
        }
      ]
    },
    {
      "cell_type": "code",
      "source": "#Question 9\na=int(input(\"enter the number :> \"))\nsum=1\nfor i in range (1,a+1):\n  sum=sum*i\n\nprint(sum)",
      "metadata": {
        "trusted": true
      },
      "execution_count": null,
      "outputs": []
    },
    {
      "cell_type": "code",
      "source": "#Question 10\nlist1 = [1, 4, 5, 6, 5]\nlist2 = [3, 5, 7, 2, 5]\n\nfor i in list2 :\n    list1.append(i)\nlist1.sort()\nprint (str(list1))",
      "metadata": {
        "trusted": true
      },
      "execution_count": 65,
      "outputs": [
        {
          "name": "stdout",
          "text": "[1, 2, 3, 4, 5, 5, 5, 5, 6, 7]\n",
          "output_type": "stream"
        }
      ]
    },
    {
      "cell_type": "code",
      "source": "",
      "metadata": {},
      "execution_count": null,
      "outputs": []
    }
  ]
}